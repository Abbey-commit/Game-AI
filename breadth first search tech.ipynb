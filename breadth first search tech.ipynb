{
 "cells": [
  {
   "cell_type": "markdown",
   "id": "f2fd3825-356d-4ed1-bdf5-f11199513b52",
   "metadata": {},
   "source": [
    "# Function for BFS Tree and the Successes of Nodes"
   ]
  },
  {
   "cell_type": "markdown",
   "id": "27daf18b-8ccc-4ab2-9b56-6e64f4d73516",
   "metadata": {},
   "source": [
    "Define the root and generate success function of tree "
   ]
  },
  {
   "cell_type": "code",
   "execution_count": 3,
   "id": "be2efbc4-bbfc-45ac-bba0-5747145b31a0",
   "metadata": {},
   "outputs": [],
   "source": [
    "root = {\"value\":1, \"depth\":1}\n",
    "def succ(node):\n",
    "    if node[\"value\"] == 5:\n",
    "        return []\n",
    "    elif node['value'] == 4:\n",
    "        return [{\"value\": 5, \"depth\": node[\"depth\"]+1}]\n",
    "    else:\n",
    "        return [\n",
    "            {\"value\": node['value']+1, 'depth': node['depth']+1},\n",
    "            {\"value\": node['value']+2, \"depth\": node['depth']+1}\n",
    "        ]\n",
    "\n"
   ]
  },
  {
   "cell_type": "markdown",
   "id": "bc2af34e-ed05-49e1-8d3d-885f8674ceef",
   "metadata": {},
   "source": [
    "BSF Function "
   ]
  },
  {
   "cell_type": "code",
   "execution_count": 15,
   "id": "595509f3-201a-4048-b2ef-12086d3b742f",
   "metadata": {},
   "outputs": [],
   "source": [
    "def bfs_tree(node):\n",
    "    nodes_to_visit = [node]\n",
    "    visited_nodes = []\n",
    "    while len(nodes_to_visit) > 0:\n",
    "        current_node = nodes_to_visit.pop(0) # This is where the differences occur\n",
    "        visited_nodes.append(current_node)\n",
    "        nodes_to_visit.extend(succ(current_node))\n",
    "    return visited_nodes"
   ]
  },
  {
   "cell_type": "code",
   "execution_count": 16,
   "id": "3c2d7216-e52d-4458-b6c5-c877c5cd3eef",
   "metadata": {},
   "outputs": [
    {
     "data": {
      "text/plain": [
       "[{'value': 1, 'depth': 1},\n",
       " {'value': 2, 'depth': 2},\n",
       " {'value': 3, 'depth': 2},\n",
       " {'value': 3, 'depth': 3},\n",
       " {'value': 4, 'depth': 3},\n",
       " {'value': 4, 'depth': 3},\n",
       " {'value': 5, 'depth': 3},\n",
       " {'value': 4, 'depth': 4},\n",
       " {'value': 5, 'depth': 4},\n",
       " {'value': 5, 'depth': 4},\n",
       " {'value': 5, 'depth': 4},\n",
       " {'value': 5, 'depth': 5}]"
      ]
     },
     "execution_count": 16,
     "metadata": {},
     "output_type": "execute_result"
    }
   ],
   "source": [
    "# Call the functions\n",
    "bfs_tree(root)"
   ]
  },
  {
   "cell_type": "code",
   "execution_count": 18,
   "id": "d0bd7311-a668-4d17-8f86-f9e5c530a809",
   "metadata": {},
   "outputs": [
    {
     "data": {
      "text/plain": [
       "[{'value': 1, 'depth': 1},\n",
       " {'value': 3, 'depth': 2},\n",
       " {'value': 5, 'depth': 3},\n",
       " {'value': 4, 'depth': 3},\n",
       " {'value': 5, 'depth': 4},\n",
       " {'value': 2, 'depth': 2},\n",
       " {'value': 4, 'depth': 3},\n",
       " {'value': 5, 'depth': 4},\n",
       " {'value': 3, 'depth': 3},\n",
       " {'value': 5, 'depth': 4},\n",
       " {'value': 4, 'depth': 4},\n",
       " {'value': 5, 'depth': 5}]"
      ]
     },
     "execution_count": 18,
     "metadata": {},
     "output_type": "execute_result"
    }
   ],
   "source": [
    "# dfs function\n",
    "def  dfs_tree(node):\n",
    "    nodes_to_visit = [node]\n",
    "    visited_nodes = []\n",
    "    while len(nodes_to_visit) > 0:\n",
    "        current_node = nodes_to_visit.pop() # this is where the depth code function occur\n",
    "        visited_nodes.append(current_node)\n",
    "        nodes_to_visit.extend(succ(current_node))\n",
    "    return visited_nodes\n",
    "\n",
    "dfs_tree(root)"
   ]
  },
  {
   "cell_type": "code",
   "execution_count": null,
   "id": "840a3446-0e9c-446a-a4b2-142b39b56328",
   "metadata": {},
   "outputs": [],
   "source": []
  }
 ],
 "metadata": {
  "kernelspec": {
   "display_name": "Python 3 (ipykernel)",
   "language": "python",
   "name": "python3"
  },
  "language_info": {
   "codemirror_mode": {
    "name": "ipython",
    "version": 3
   },
   "file_extension": ".py",
   "mimetype": "text/x-python",
   "name": "python",
   "nbconvert_exporter": "python",
   "pygments_lexer": "ipython3",
   "version": "3.12.7"
  }
 },
 "nbformat": 4,
 "nbformat_minor": 5
}
